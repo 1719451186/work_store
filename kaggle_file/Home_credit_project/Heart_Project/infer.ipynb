{
 "cells": [
  {
   "cell_type": "code",
   "execution_count": null,
   "id": "initial_id",
   "metadata": {
    "collapsed": true
   },
   "outputs": [],
   "source": [
    "import gc"
   ]
  },
  {
   "cell_type": "code",
   "execution_count": null,
   "outputs": [],
   "source": [
    "!cp /kaggle/usr/lib/exp0217_lgb_xgb_cat_ensemble_baseline/exp0217_lgb_xgb_cat_ensemble_baseline.py lgb_xgb_cat_ensemble_baseline.py\n",
    "!python lgb_xgb_cat_ensemble_baseline.py\n",
    "!mv submission.csv submission_1.csv\n",
    "gc.collect()"
   ],
   "metadata": {
    "collapsed": false
   },
   "id": "c7180b8437693e71"
  },
  {
   "cell_type": "code",
   "execution_count": null,
   "outputs": [],
   "source": [
    "# %% [code] {\"_kg_hide-output\":true,\"execution\":{\"iopub.status.busy\":\"2024-02-10T02:45:23.557162Z\",\"iopub.execute_input\":\"2024-02-10T02:45:23.557504Z\",\"iopub.status.idle\":\"2024-02-10T02:45:47.413693Z\",\"shell.execute_reply.started\":\"2024-02-10T02:45:23.557452Z\",\"shell.execute_reply\":\"2024-02-10T02:45:47.412518Z\"}}\n",
    "!python -m pip install --no-index --find-links=/kaggle/input/autogluon-pkgs autogluon > /dev/null\n",
    "\n",
    "# %% [code] {\"_kg_hide-output\":true,\"execution\":{\"iopub.status.busy\":\"2024-02-10T02:45:47.419786Z\",\"iopub.execute_input\":\"2024-02-10T02:45:47.420055Z\",\"iopub.status.idle\":\"2024-02-10T02:46:10.396589Z\",\"shell.execute_reply.started\":\"2024-02-10T02:45:47.420028Z\",\"shell.execute_reply\":\"2024-02-10T02:46:10.395571Z\"}}\n",
    "!python -m pip install --no-index --find-links=/kaggle/input/ray-pkgs --upgrade --force-reinstall -q ray==2.6.3\n",
    "\n",
    "!cp /kaggle/usr/lib/home_credit_automl_inference/home_credit_automl_inference.py home_credit_automl_inference.py\n",
    "!python home_credit_automl_inference.py\n",
    "!mv submission.csv submission_4.csv\n",
    "gc.collect()"
   ],
   "metadata": {
    "collapsed": false
   },
   "id": "af170c66a1d2f5da"
  },
  {
   "cell_type": "code",
   "execution_count": 5,
   "outputs": [
    {
     "name": "stdout",
     "output_type": "stream",
     "text": [
      "1 1\n",
      "1 12\n",
      "1 18\n",
      "1 19\n",
      "12 12\n",
      "12 18\n",
      "12 19\n",
      "18 18\n",
      "18 19\n",
      "19 19\n"
     ]
    }
   ],
   "source": [
    "nums = [1,19,18,12]\n",
    "sorted_unique_nums = sorted(set(nums))\n",
    "for i, left in enumerate(sorted_unique_nums):\n",
    "    for right in sorted_unique_nums[i:]:\n",
    "        print(left, right)"
   ],
   "metadata": {
    "collapsed": false,
    "ExecuteTime": {
     "end_time": "2024-04-08T05:46:25.965013900Z",
     "start_time": "2024-04-08T05:46:25.945883900Z"
    }
   },
   "id": "68c2843927ffc42c"
  },
  {
   "cell_type": "code",
   "execution_count": null,
   "outputs": [],
   "source": [],
   "metadata": {
    "collapsed": false
   },
   "id": "251683044c48a7bf"
  }
 ],
 "metadata": {
  "kernelspec": {
   "display_name": "Python 3",
   "language": "python",
   "name": "python3"
  },
  "language_info": {
   "codemirror_mode": {
    "name": "ipython",
    "version": 2
   },
   "file_extension": ".py",
   "mimetype": "text/x-python",
   "name": "python",
   "nbconvert_exporter": "python",
   "pygments_lexer": "ipython2",
   "version": "2.7.6"
  }
 },
 "nbformat": 4,
 "nbformat_minor": 5
}
